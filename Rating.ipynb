{
  "nbformat": 4,
  "nbformat_minor": 0,
  "metadata": {
    "colab": {
      "name": "Rating.ipynb",
      "version": "0.3.2",
      "provenance": [],
      "collapsed_sections": [],
      "include_colab_link": true
    },
    "kernelspec": {
      "name": "python2",
      "display_name": "Python 2"
    }
  },
  "cells": [
    {
      "cell_type": "markdown",
      "metadata": {
        "id": "view-in-github",
        "colab_type": "text"
      },
      "source": [
        "<a href=\"https://colab.research.google.com/github/rahulkrishnan98/Niki.ai-NLP-Rating-Predictor/blob/master/Rating.ipynb\" target=\"_parent\"><img src=\"https://colab.research.google.com/assets/colab-badge.svg\" alt=\"Open In Colab\"/></a>"
      ]
    },
    {
      "cell_type": "markdown",
      "metadata": {
        "id": "HLBLbZo3D4Bj",
        "colab_type": "text"
      },
      "source": [
        "# Problem Statement \n",
        "Given reviews in textual format along with features such as App Version code and number. Objective is to allocate a rating from 1 to 5 (Multiclass classification) with 1 being worst to 5 being best. \n",
        "\n",
        "1.   Comman problems that are inclusive to this data as well is the NaN values present in multiple feature vectors. More carefully noted, there are more special characters than the normal stopwards from nltk library can detect. Emojis (\\x...) are very definitive in helping point out extremeties. \n",
        "2. Through the following lines I hope to capture context via an  Exploratory Data Analysis (EDA) and build upon it via different approaches to tackle the multiclass problem\n",
        "\n",
        "**Models Used**\n",
        "\n",
        "\n",
        "1.   Logistic Regression\n",
        "2.   MultinomialNB\n",
        "3.   XgBoost\n",
        "\n",
        "**Vectorization Techniques**\n",
        "1. TF-IDF\n",
        "2. Count Vectorizer \n",
        "\n",
        "\n",
        "\n"
      ]
    },
    {
      "cell_type": "code",
      "metadata": {
        "id": "CPxkOzI09m0V",
        "colab_type": "code",
        "colab": {
          "base_uri": "https://localhost:8080/",
          "height": 91
        },
        "outputId": "50f91024-5398-4766-ff06-6f8b6989e165"
      },
      "source": [
        "from sklearn.feature_extraction.text import CountVectorizer, TfidfVectorizer\n",
        "from sklearn.utils.validation import check_X_y, check_is_fitted\n",
        "from sklearn.base import BaseEstimator, ClassifierMixin\n",
        "from nltk.tokenize import sent_tokenize, word_tokenize\n",
        "from sklearn.linear_model import LogisticRegression\n",
        "from sklearn.naive_bayes import MultinomialNB\n",
        "from sklearn.metrics import confusion_matrix\n",
        "from sklearn.preprocessing import LabelEncoder\n",
        "from sklearn import model_selection\n",
        "from nltk.corpus import stopwords\n",
        "import numpy as np\n",
        "import matplotlib\n",
        "import seaborn as sns\n",
        "import matplotlib.pyplot as plt\n",
        "from scipy import sparse\n",
        "import xgboost as xgb\n",
        "from sklearn.metrics import confusion_matrix\n",
        "from sklearn.metrics import accuracy_score, f1_score, precision_score, recall_score, classification_report, confusion_matrix\n",
        "import pandas as pd\n",
        "import numpy as np\n",
        "import traceback\n",
        "import pickle\n",
        "import time\n",
        "import csv\n",
        "import sys\n",
        "import gc\n",
        "import os\n",
        "import re\n",
        "from sklearn.externals import joblib\n",
        "from sklearn.metrics import accuracy_score\n",
        "from sklearn import model_selection\n",
        "from sklearn.naive_bayes import MultinomialNB\n",
        "from sklearn.linear_model import LogisticRegression\n",
        "from sklearn.model_selection import train_test_split\n",
        "from tqdm import tqdm\n",
        "import nltk\n",
        "\n",
        "from nltk.corpus import stopwords\n",
        "from nltk.tokenize import sent_tokenize, word_tokenize\n",
        "from sklearn.preprocessing import LabelEncoder\n",
        "from sklearn import model_selection\n",
        "from sklearn.metrics import classification_report\n",
        "\n",
        "from keras.models import Sequential\n",
        "from keras.layers.recurrent import LSTM, GRU\n",
        "from keras.layers.core import Dense, Activation, Dropout\n",
        "from keras.layers.embeddings import Embedding\n",
        "from keras.models import model_from_json\n",
        "from keras.utils import np_utils\n",
        "from keras.preprocessing import sequence, text\n",
        "from keras.layers import SpatialDropout1D\n",
        "nltk.download('stopwords')\n",
        "nltk.download('punkt')\n",
        "\n",
        "from gensim.models import Word2Vec\n",
        "import fasttext\n",
        "import re\n",
        "\n",
        "\n",
        "punctuation_irritants = ',.-_&%>'\n",
        "stopwords = set(stopwords.words('english'))"
      ],
      "execution_count": 33,
      "outputs": [
        {
          "output_type": "stream",
          "text": [
            "[nltk_data] Downloading package stopwords to /root/nltk_data...\n",
            "[nltk_data]   Package stopwords is already up-to-date!\n",
            "[nltk_data] Downloading package punkt to /root/nltk_data...\n",
            "[nltk_data]   Package punkt is already up-to-date!\n"
          ],
          "name": "stdout"
        }
      ]
    },
    {
      "cell_type": "code",
      "metadata": {
        "id": "tMOD-3RR-J-b",
        "colab_type": "code",
        "colab": {}
      },
      "source": [
        "def metricsSklearn(preds,actuals,model_det):\n",
        "    print(model_det)\n",
        "    print(classification_report(actuals, preds))\n",
        "    cm=confusion_matrix(actuals,preds)\n",
        "    print \"CM is \"\n",
        "    print cm\n",
        "    plot_confusion_matrix(cm,model_det)"
      ],
      "execution_count": 0,
      "outputs": []
    },
    {
      "cell_type": "code",
      "metadata": {
        "id": "4BOpdylj-ZBj",
        "colab_type": "code",
        "colab": {}
      },
      "source": [
        "def plot_confusion_matrix(cm,filename,normalized=True, cmap='bone'):\n",
        "    classes=class_names\n",
        "    filename=\"confusion/\"+filename+\"confusion_matrix.png\"\n",
        "    plt.figure(figsize=[7, 6])\n",
        "    norm_cm = cm\n",
        "    if normalized:\n",
        "        norm_cm = cm.astype('float') / cm.sum(axis=1)[:, np.newaxis]\n",
        "        sns.heatmap(norm_cm, annot=cm, fmt='g', xticklabels=classes, yticklabels=classes, cmap=cmap)\n",
        "        plt.show()\n"
      ],
      "execution_count": 0,
      "outputs": []
    },
    {
      "cell_type": "code",
      "metadata": {
        "id": "JsD_dIhU-dFR",
        "colab_type": "code",
        "colab": {}
      },
      "source": [
        "def LogisticReg(data,label,test_data,test_label):\n",
        "    model_det=\"LogisticTF\"\n",
        "    model=LogisticRegression(C=1.0,solver='lbfgs',multi_class='multinomial')\n",
        "    model.fit(data,label)\n",
        "    preds = list(label_encoder.inverse_transform([int(i) for i in list(model.predict(test_data))]))\n",
        "    actuals = label_encoder.inverse_transform(test_label)\n",
        "    metricsSklearn(preds,actuals,model_det)"
      ],
      "execution_count": 0,
      "outputs": []
    },
    {
      "cell_type": "code",
      "metadata": {
        "id": "mC4QeHNz-hqd",
        "colab_type": "code",
        "colab": {}
      },
      "source": [
        "def Multinomial(data,label,test_data,test_label):\n",
        "    model_det=\"MultinomialNB\"\n",
        "    model=MultinomialNB()\n",
        "    model.fit(data,label)\n",
        "    preds=list(label_encoder.inverse_transform([int(i) for i in list(model.predict(test_data))]))\n",
        "    actuals=label_encoder.inverse_transform(test_label)\n",
        "    metricsSklearn(preds,actuals,model_det)"
      ],
      "execution_count": 0,
      "outputs": []
    },
    {
      "cell_type": "code",
      "metadata": {
        "id": "V819i6wV-lQB",
        "colab_type": "code",
        "colab": {}
      },
      "source": [
        "def XgBoost(data,label,test_data,test_label,class_count):\n",
        "    data = data.toarray()\n",
        "    xg_train = xgb.DMatrix(data, label=label)\n",
        "    num_round = 10  # number of rounds for boosting\n",
        "    params = {'booster': 'gbtree', 'max_depth': 10, 'objective': 'multi:softmax', 'eval_metric': 'auc', 'silent': 1,\n",
        "              'num_class': class_count}\n",
        "    bst = xgb.train(params, xg_train, num_round)\n",
        "\n",
        "    xg_test = xgb.DMatrix(test_data.toarray())\n",
        "    preds = list(label_encoder.inverse_transform([int(i) for i in list(bst.predict(xg_test))]))\n",
        "    actuals = label_encoder.inverse_transform(test_label)\n",
        "    model_det='XgBoostCount'\n",
        "    metricsSklearn(preds,actuals,model_det)"
      ],
      "execution_count": 0,
      "outputs": []
    },
    {
      "cell_type": "code",
      "metadata": {
        "id": "SVylQbWm-oWZ",
        "colab_type": "code",
        "colab": {}
      },
      "source": [
        "def clean_sent(sent):\n",
        "    for irritant in punctuation_irritants:\n",
        "        sent = sent.replace(irritant, ' ')\n",
        "    return sent\n",
        "def tokenize(value, number_required_flag=False):\n",
        "    overall_value = []\n",
        "    value = value.lower().decode('utf-8')\n",
        "    # For each column tokenize into sentences and words\n",
        "    for sent in sent_tokenize(value):\n",
        "        sent_data = []\n",
        "        # The following line is the fastest way to remove punctuations\n",
        "        sent = clean_sent(sent)\n",
        "        # The following line removes digits\n",
        "        if number_required_flag:\n",
        "            pass\n",
        "        else:\n",
        "            sent = re.sub(r'\\d+', ' ', sent)\n",
        "        for word in word_tokenize(sent):\n",
        "            if word not in stopwords and word != '' and str.isalnum(word.encode('ascii', 'ignore')) and len(word) > 1:\n",
        "                sent_data.append(word)\n",
        "            else:\n",
        "                pass\n",
        "        overall_value.append(' '.join(sent_data))\n",
        "    return ' '.join(overall_value).encode('ascii', 'ignore')"
      ],
      "execution_count": 0,
      "outputs": []
    },
    {
      "cell_type": "code",
      "metadata": {
        "id": "vHqlSqdA_NhG",
        "colab_type": "code",
        "colab": {
          "base_uri": "https://localhost:8080/",
          "height": 129
        },
        "outputId": "f11ab28f-9b95-480d-8726-5c1b7744cc22"
      },
      "source": [
        "from google.colab import drive\n",
        "drive.mount('/content/drive/')"
      ],
      "execution_count": 12,
      "outputs": [
        {
          "output_type": "stream",
          "text": [
            "Go to this URL in a browser: https://accounts.google.com/o/oauth2/auth?client_id=947318989803-6bn6qk8qdgf4n4g3pfee6491hc0brc4i.apps.googleusercontent.com&redirect_uri=urn%3Aietf%3Awg%3Aoauth%3A2.0%3Aoob&scope=email%20https%3A%2F%2Fwww.googleapis.com%2Fauth%2Fdocs.test%20https%3A%2F%2Fwww.googleapis.com%2Fauth%2Fdrive%20https%3A%2F%2Fwww.googleapis.com%2Fauth%2Fdrive.photos.readonly%20https%3A%2F%2Fwww.googleapis.com%2Fauth%2Fpeopleapi.readonly&response_type=code\n",
            "\n",
            "Enter your authorization code:\n",
            "··········\n",
            "Mounted at /content/drive/\n"
          ],
          "name": "stdout"
        }
      ]
    },
    {
      "cell_type": "code",
      "metadata": {
        "id": "buW9IFfq_h38",
        "colab_type": "code",
        "colab": {
          "base_uri": "https://localhost:8080/",
          "height": 35
        },
        "outputId": "94e07fda-95d9-4b69-950a-ea2ffc9a253b"
      },
      "source": [
        "%cd drive/My Drive/Colab Notebooks"
      ],
      "execution_count": 13,
      "outputs": [
        {
          "output_type": "stream",
          "text": [
            "/content/drive/My Drive/Colab Notebooks\n"
          ],
          "name": "stdout"
        }
      ]
    },
    {
      "cell_type": "code",
      "metadata": {
        "id": "74eC6BWu-s-c",
        "colab_type": "code",
        "colab": {
          "base_uri": "https://localhost:8080/",
          "height": 265
        },
        "outputId": "fcf02b43-48dd-4aa0-85cd-60c829abe8a2"
      },
      "source": [
        "df= pd.read_csv('train.csv')\n",
        "df= df[['Review Text','Star Rating']]\n",
        "df=df.astype(str)\n",
        "df=df.drop_duplicates()\n",
        "df['Review Text']=df['Review Text'].map(tokenize)\n",
        "\n",
        "class_count=len(df['Star Rating'].value_counts())\n",
        "class_names=list(df['Star Rating'].unique())\n",
        "\n",
        "df['Star Rating'].value_counts().plot.bar()\n",
        "plt.show()"
      ],
      "execution_count": 72,
      "outputs": [
        {
          "output_type": "display_data",
          "data": {
            "image/png": "[encoded data removed]",
            "text/plain": [
              "<Figure size 432x288 with 1 Axes>"
            ]
          },
          "metadata": {
            "tags": []
          }
        }
      ]
    },
    {
      "cell_type": "markdown",
      "metadata": {
        "id": "kX6m41WzOJ-U",
        "colab_type": "text"
      },
      "source": [
        "# Rating Distribution - Class Imbalance\n",
        "\n",
        "\n",
        "1.   We observe that the extremes are imbalanced in comparison with other classes.\n",
        "2.   A shortcoming that can be expected here is uneven learning that can lead to inncorrectly classifying classes that are not remotely linked to input feature vector. A clear observation of the same can be found in the confusion matrices attached below in case of class '3'.\n",
        "\n"
      ]
    },
    {
      "cell_type": "code",
      "metadata": {
        "id": "mt5PjuL__v1C",
        "colab_type": "code",
        "colab": {}
      },
      "source": [
        "#Label encode for y and split data\n",
        "label_encoder = LabelEncoder()\n",
        "label_encoder = label_encoder.fit(df['Star Rating'])\n",
        "label_encoded_labels = label_encoder.transform(df['Star Rating'])\n",
        "train_x, valid_x, train_y, valid_y = model_selection.train_test_split(df['Review Text'],label_encoded_labels)"
      ],
      "execution_count": 0,
      "outputs": []
    },
    {
      "cell_type": "code",
      "metadata": {
        "id": "uVCF_cl7_0Y4",
        "colab_type": "code",
        "colab": {}
      },
      "source": [
        "tfidf_vec = TfidfVectorizer(ngram_range=(1,1))\n",
        "tfidf_vec.fit(df['Review Text'].to_list())\n",
        "trn_term_doc = tfidf_vec.transform(train_x)\n",
        "test_term_doc = tfidf_vec.transform(valid_x)"
      ],
      "execution_count": 0,
      "outputs": []
    },
    {
      "cell_type": "code",
      "metadata": {
        "id": "4rVDvmgh_2jB",
        "colab_type": "code",
        "colab": {}
      },
      "source": [
        "#CountVectorised\n",
        "ctv = CountVectorizer(analyzer='word',token_pattern=r'\\w{1,}',\n",
        "            ngram_range=(1, 1), stop_words = 'english')\n",
        "# Fitting Count Vectorizer to both training and test sets (semi-supervised learning)\n",
        "ctv.fit(df[\"Review Text\"].to_list())\n",
        "xtrain_ctv =  ctv.transform(train_x) \n",
        "xvalid_ctv = ctv.transform(valid_x)\n"
      ],
      "execution_count": 0,
      "outputs": []
    },
    {
      "cell_type": "code",
      "metadata": {
        "id": "10lWX7CD_85k",
        "colab_type": "code",
        "colab": {
          "base_uri": "https://localhost:8080/",
          "height": 728
        },
        "outputId": "e95ce14f-4240-4c95-fed9-b493279a51fe"
      },
      "source": [
        "LogisticReg(trn_term_doc,train_y,test_term_doc,valid_y)"
      ],
      "execution_count": 20,
      "outputs": [
        {
          "output_type": "stream",
          "text": [
            "LogisticTF\n",
            "              precision    recall  f1-score   support\n",
            "\n",
            "           1       0.78      0.89      0.83       434\n",
            "           2       0.00      0.00      0.00        37\n",
            "           3       0.00      0.00      0.00        52\n",
            "           4       0.29      0.01      0.03       136\n",
            "           5       0.71      0.93      0.81       506\n",
            "\n",
            "   micro avg       0.74      0.74      0.74      1165\n",
            "   macro avg       0.35      0.37      0.33      1165\n",
            "weighted avg       0.63      0.74      0.66      1165\n",
            "\n",
            "CM is \n",
            "[[385   0   0   2  47]\n",
            " [ 30   0   0   1   6]\n",
            " [ 29   0   0   2  21]\n",
            " [ 17   0   0   2 117]\n",
            " [ 35   0   0   0 471]]\n"
          ],
          "name": "stdout"
        },
        {
          "output_type": "display_data",
          "data": {
            "image/png": "[encoded data removed]",
            "text/plain": [
              "<Figure size 504x432 with 2 Axes>"
            ]
          },
          "metadata": {
            "tags": []
          }
        }
      ]
    },
    {
      "cell_type": "code",
      "metadata": {
        "id": "7OlhBKLaAKiY",
        "colab_type": "code",
        "colab": {
          "base_uri": "https://localhost:8080/",
          "height": 728
        },
        "outputId": "9be33e83-e157-4401-91de-1d0f2ec5e65b"
      },
      "source": [
        "XgBoost(trn_term_doc,train_y,test_term_doc,valid_y,class_count)"
      ],
      "execution_count": 21,
      "outputs": [
        {
          "output_type": "stream",
          "text": [
            "XgBoostCount\n",
            "              precision    recall  f1-score   support\n",
            "\n",
            "           1       0.75      0.74      0.75       434\n",
            "           2       0.00      0.00      0.00        37\n",
            "           3       0.20      0.02      0.04        52\n",
            "           4       0.20      0.01      0.03       136\n",
            "           5       0.64      0.91      0.75       506\n",
            "\n",
            "   micro avg       0.67      0.67      0.67      1165\n",
            "   macro avg       0.36      0.34      0.31      1165\n",
            "weighted avg       0.59      0.67      0.61      1165\n",
            "\n",
            "CM is \n",
            "[[323   3   1   0 107]\n",
            " [ 30   0   0   0   7]\n",
            " [ 21   0   1   1  29]\n",
            " [ 19   1   1   2 113]\n",
            " [ 38   1   2   7 458]]\n"
          ],
          "name": "stdout"
        },
        {
          "output_type": "display_data",
          "data": {
            "image/png": "[encoded data removed]",
            "text/plain": [
              "<Figure size 504x432 with 2 Axes>"
            ]
          },
          "metadata": {
            "tags": []
          }
        }
      ]
    },
    {
      "cell_type": "code",
      "metadata": {
        "id": "YX5IvKQqBFoz",
        "colab_type": "code",
        "colab": {
          "base_uri": "https://localhost:8080/",
          "height": 728
        },
        "outputId": "17dc0dc1-400b-4e6e-c6e9-b4e38ab60443"
      },
      "source": [
        "Multinomial(trn_term_doc,train_y,test_term_doc,valid_y)"
      ],
      "execution_count": 26,
      "outputs": [
        {
          "output_type": "stream",
          "text": [
            "MultinomialNB\n",
            "              precision    recall  f1-score   support\n",
            "\n",
            "           1       0.79      0.90      0.84       434\n",
            "           2       0.00      0.00      0.00        37\n",
            "           3       0.00      0.00      0.00        52\n",
            "           4       0.00      0.00      0.00       136\n",
            "           5       0.71      0.94      0.81       506\n",
            "\n",
            "   micro avg       0.74      0.74      0.74      1165\n",
            "   macro avg       0.30      0.37      0.33      1165\n",
            "weighted avg       0.60      0.74      0.67      1165\n",
            "\n",
            "CM is \n",
            "[[391   0   0   0  43]\n",
            " [ 31   0   0   0   6]\n",
            " [ 27   0   0   0  25]\n",
            " [ 19   0   0   0 117]\n",
            " [ 30   0   0   0 476]]\n"
          ],
          "name": "stdout"
        },
        {
          "output_type": "display_data",
          "data": {
            "image/png": "[encoded data removed]",
            "text/plain": [
              "<Figure size 504x432 with 2 Axes>"
            ]
          },
          "metadata": {
            "tags": []
          }
        }
      ]
    },
    {
      "cell_type": "code",
      "metadata": {
        "id": "7IODZv9uCBbQ",
        "colab_type": "code",
        "colab": {
          "base_uri": "https://localhost:8080/",
          "height": 785
        },
        "outputId": "c7337dbd-9224-45fd-a804-95962b04eed7"
      },
      "source": [
        "LogisticReg(xtrain_ctv,train_y,xvalid_ctv,valid_y)"
      ],
      "execution_count": 27,
      "outputs": [
        {
          "output_type": "stream",
          "text": [
            "/usr/local/lib/python2.7/dist-packages/sklearn/linear_model/logistic.py:758: ConvergenceWarning: lbfgs failed to converge. Increase the number of iterations.\n",
            "  \"of iterations.\", ConvergenceWarning)\n"
          ],
          "name": "stderr"
        },
        {
          "output_type": "stream",
          "text": [
            "LogisticTF\n",
            "              precision    recall  f1-score   support\n",
            "\n",
            "           1       0.79      0.85      0.82       434\n",
            "           2       0.00      0.00      0.00        37\n",
            "           3       0.00      0.00      0.00        52\n",
            "           4       0.26      0.07      0.11       136\n",
            "           5       0.71      0.92      0.80       506\n",
            "\n",
            "   micro avg       0.72      0.72      0.72      1165\n",
            "   macro avg       0.35      0.37      0.35      1165\n",
            "weighted avg       0.63      0.72      0.67      1165\n",
            "\n",
            "CM is \n",
            "[[368   0   5   6  55]\n",
            " [ 26   0   0   4   7]\n",
            " [ 27   0   0   6  19]\n",
            " [ 16   0   3  10 107]\n",
            " [ 27   0   2  13 464]]\n"
          ],
          "name": "stdout"
        },
        {
          "output_type": "display_data",
          "data": {
            "image/png": "[encoded data removed]",
            "text/plain": [
              "<Figure size 504x432 with 2 Axes>"
            ]
          },
          "metadata": {
            "tags": []
          }
        }
      ]
    },
    {
      "cell_type": "code",
      "metadata": {
        "id": "aYNbc8xzCPQf",
        "colab_type": "code",
        "colab": {
          "base_uri": "https://localhost:8080/",
          "height": 728
        },
        "outputId": "f18ad0b7-a467-4895-b3ee-ca13b76c8c24"
      },
      "source": [
        "Multinomial(xtrain_ctv,train_y,xvalid_ctv,valid_y)"
      ],
      "execution_count": 28,
      "outputs": [
        {
          "output_type": "stream",
          "text": [
            "MultinomialNB\n",
            "              precision    recall  f1-score   support\n",
            "\n",
            "           1       0.79      0.88      0.83       434\n",
            "           2       0.00      0.00      0.00        37\n",
            "           3       0.00      0.00      0.00        52\n",
            "           4       0.35      0.05      0.09       136\n",
            "           5       0.71      0.93      0.81       506\n",
            "\n",
            "   micro avg       0.74      0.74      0.74      1165\n",
            "   macro avg       0.37      0.37      0.35      1165\n",
            "weighted avg       0.65      0.74      0.67      1165\n",
            "\n",
            "CM is \n",
            "[[380   2   2   4  46]\n",
            " [ 29   0   0   2   6]\n",
            " [ 27   0   0   2  23]\n",
            " [ 15   0   0   7 114]\n",
            " [ 29   0   1   5 471]]\n"
          ],
          "name": "stdout"
        },
        {
          "output_type": "display_data",
          "data": {
            "image/png": "[encoded data removed]",
            "text/plain": [
              "<Figure size 504x432 with 2 Axes>"
            ]
          },
          "metadata": {
            "tags": []
          }
        }
      ]
    },
    {
      "cell_type": "code",
      "metadata": {
        "id": "I6rg631pCU4A",
        "colab_type": "code",
        "colab": {
          "base_uri": "https://localhost:8080/",
          "height": 728
        },
        "outputId": "621e77f9-fc00-4e36-9965-bef27e67ea2f"
      },
      "source": [
        "XgBoost(xtrain_ctv,train_y,xvalid_ctv,valid_y,class_count)"
      ],
      "execution_count": 29,
      "outputs": [
        {
          "output_type": "stream",
          "text": [
            "XgBoostCount\n",
            "              precision    recall  f1-score   support\n",
            "\n",
            "           1       0.79      0.72      0.75       434\n",
            "           2       0.00      0.00      0.00        37\n",
            "           3       0.33      0.02      0.04        52\n",
            "           4       0.71      0.04      0.07       136\n",
            "           5       0.63      0.94      0.75       506\n",
            "\n",
            "   micro avg       0.68      0.68      0.68      1165\n",
            "   macro avg       0.49      0.34      0.32      1165\n",
            "weighted avg       0.66      0.68      0.62      1165\n",
            "\n",
            "CM is \n",
            "[[311   0   0   0 123]\n",
            " [ 25   0   1   0  11]\n",
            " [ 19   0   1   0  32]\n",
            " [ 12   0   0   5 119]\n",
            " [ 27   0   1   2 476]]\n"
          ],
          "name": "stdout"
        },
        {
          "output_type": "display_data",
          "data": {
            "image/png": "[encoded data removed]",
            "text/plain": [
              "<Figure size 504x432 with 2 Axes>"
            ]
          },
          "metadata": {
            "tags": []
          }
        }
      ]
    },
    {
      "cell_type": "markdown",
      "metadata": {
        "id": "Co5QA_8GCywQ",
        "colab_type": "text"
      },
      "source": [
        "#Side Hacks to better Metrics\n",
        "\n",
        "\n",
        "*   It is noted that smilies almost always tend to equate to a high positive review. General intution behind that is, people refrain from investing time in emojis while lamenting about a bad review/ problem they faced.\n",
        "*  If review title available check sentiment and equate to extremes [1 and 5]. Since they are mostly reflective of the rating and are not subjective like Review Text\n",
        "*  I am not including it towards calculation of F-measure as they do not tend to be real-world and are mostly local to this review set. \n",
        "\n"
      ]
    },
    {
      "cell_type": "code",
      "metadata": {
        "id": "rgn4NG1RLBfg",
        "colab_type": "code",
        "colab": {}
      },
      "source": [
        "def is_emoji(s):\n",
        "    emojis = [\"😊\",\"😘\"] # add more emojis here as data progresses\n",
        "    count = 0\n",
        "    for emoji in emojis:\n",
        "        count += s.count(emoji)\n",
        "        if count > 1:\n",
        "            return False\n",
        "    return bool(count)"
      ],
      "execution_count": 0,
      "outputs": []
    },
    {
      "cell_type": "code",
      "metadata": {
        "id": "K1oVzp5GCsl3",
        "colab_type": "code",
        "colab": {
          "base_uri": "https://localhost:8080/",
          "height": 35
        },
        "outputId": "af9757d8-052a-47e8-e0f6-a72f84747aee"
      },
      "source": [
        "df1=pd.read_csv('train.csv')\n",
        "a=df1[['Review Text', 'Star Rating']]\n",
        "inn=a['Review Text'].to_list()\n",
        "rating=a['Star Rating'].to_list()\n",
        "\n",
        "count=0\n",
        "total=0\n",
        "for i in range(len(inn)):\n",
        "    inn[i]=str(inn[i])\n",
        "    if is_emoji(inn[i]):\n",
        "        total+=1\n",
        "        if(rating[i]==5):\n",
        "            count+=1\n",
        "print float(count)/total\n"
      ],
      "execution_count": 67,
      "outputs": [
        {
          "output_type": "stream",
          "text": [
            "0.833333333333\n"
          ],
          "name": "stdout"
        }
      ]
    },
    {
      "cell_type": "markdown",
      "metadata": {
        "id": "bbkadoBKMsbr",
        "colab_type": "text"
      },
      "source": [
        "**The results are as expected, but again such a scenario might not present itself in a general use case, rather even in a larger corpus of the same dataset. Thus I have validated f-measure scores only for more traditional approaches in the above decks.**"
      ]
    },
    {
      "cell_type": "markdown",
      "metadata": {
        "id": "Mna3in8zRkhe",
        "colab_type": "text"
      },
      "source": [
        "# Running it on Test Data\n",
        "Since the answer mandates only one approach I shall be going ahead with the Logistic Regression on count Vectors. "
      ]
    },
    {
      "cell_type": "code",
      "metadata": {
        "id": "-exKTLkGRkOJ",
        "colab_type": "code",
        "colab": {
          "base_uri": "https://localhost:8080/",
          "height": 55
        },
        "outputId": "13e583f9-9c69-46ee-84a4-80dfa0c74c01"
      },
      "source": [
        "df= pd.read_csv('test.csv')\n",
        "df=df[['Review Text','id']]\n",
        "id=df['id'].to_list()\n",
        "inn=df['Review Text'].to_list()\n",
        "\n",
        "#splitting into data for model and data based on emojis\n",
        "output={}\n",
        "for i in range(len(inn)):\n",
        "    inn[i]=str(inn[i])\n",
        "    if(is_emoji(inn[i])):\n",
        "        output[id[i]]=5\n",
        "#TODO \n",
        "remove these and for the rest use the Logistic regmodel"
      ],
      "execution_count": 84,
      "outputs": [
        {
          "output_type": "stream",
          "text": [
            "{'0e648c86-9824-4afa-898c-35eae58a4b36': 5, '82317edf-3ad9-4c2d-a061-b597aa0d7494': 5, '01b0f06f-237f-4b43-bbea-783c453ecbc9': 5, 'd34e2df9-e5a4-4b28-bc82-6a7495d20f11': 5}\n"
          ],
          "name": "stdout"
        }
      ]
    }
  ]
}