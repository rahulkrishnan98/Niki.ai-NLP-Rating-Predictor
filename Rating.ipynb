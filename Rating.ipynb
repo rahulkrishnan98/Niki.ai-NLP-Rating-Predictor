{
  "nbformat": 4,
  "nbformat_minor": 0,
  "metadata": {
    "colab": {
      "name": "Rating.ipynb",
      "version": "0.3.2",
      "provenance": [],
      "collapsed_sections": [
        "kX6m41WzOJ-U",
        "6oDRQCEmQ0nP",
        "Co5QA_8GCywQ",
        "Mna3in8zRkhe"
      ],
      "include_colab_link": true
    },
    "kernelspec": {
      "name": "python2",
      "display_name": "Python 2"
    }
  },
  "cells": [
    {
      "cell_type": "markdown",
      "metadata": {
        "id": "view-in-github",
        "colab_type": "text"
      },
      "source": [
        "<a href=\"https://colab.research.google.com/github/rahulkrishnan98/Niki.ai-NLP-Rating-Predictor/blob/master/Rating.ipynb\" target=\"_parent\"><img src=\"https://colab.research.google.com/assets/colab-badge.svg\" alt=\"Open In Colab\"/></a>"
      ]
    },
    {
      "cell_type": "markdown",
      "metadata": {
        "id": "HLBLbZo3D4Bj",
        "colab_type": "text"
      },
      "source": [
        "# Problem Statement \n",
        "Given reviews in textual format along with features such as App Version code and number. Objective is to allocate a rating from 1 to 5 (Multiclass classification) with 1 being worst to 5 being best. \n",
        "\n",
        "1.   Comman problems that are inclusive to this data as well are the NaN values present in multiple feature vectors. More carefully noted, there are more special characters than the normal stopwards that the nltk library can detect. Emojis (\\x...) are very definitive in pointing out extremeties. \n",
        "2. Through the following lines I hope to capture context via an  Exploratory Data Analysis (EDA) and build upon it via different approaches to tackle the multiclass problem\n",
        "\n",
        "**Models Used**\n",
        "\n",
        "\n",
        "1.   Logistic Regression\n",
        "2.   MultinomialNB\n",
        "3.   XgBoost\n",
        "\n",
        "**Vectorization Techniques / Representations Used**\n",
        "1. TF-IDF\n",
        "2. Count Vectorizer \n",
        "\n",
        "\n",
        "\n"
      ]
    },
    {
      "cell_type": "code",
      "metadata": {
        "id": "CPxkOzI09m0V",
        "colab_type": "code",
        "outputId": "702abd9e-581d-45ee-ff3e-d38738722d66",
        "colab": {
          "base_uri": "https://localhost:8080/",
          "height": 91
        }
      },
      "source": [
        "from sklearn.feature_extraction.text import CountVectorizer, TfidfVectorizer\n",
        "from sklearn.utils.validation import check_X_y, check_is_fitted\n",
        "from sklearn.base import BaseEstimator, ClassifierMixin\n",
        "from nltk.tokenize import sent_tokenize, word_tokenize\n",
        "from sklearn.linear_model import LogisticRegression\n",
        "from sklearn.naive_bayes import MultinomialNB\n",
        "from sklearn.metrics import confusion_matrix\n",
        "from sklearn.preprocessing import LabelEncoder\n",
        "from sklearn import model_selection\n",
        "from nltk.corpus import stopwords\n",
        "import numpy as np\n",
        "import matplotlib\n",
        "import seaborn as sns\n",
        "import matplotlib.pyplot as plt\n",
        "from scipy import sparse\n",
        "import xgboost as xgb\n",
        "from sklearn.metrics import confusion_matrix\n",
        "from sklearn.metrics import accuracy_score, f1_score, precision_score, recall_score, classification_report, confusion_matrix\n",
        "import pandas as pd\n",
        "import numpy as np\n",
        "import traceback\n",
        "import pickle\n",
        "import time\n",
        "import csv\n",
        "import sys\n",
        "import gc\n",
        "import os\n",
        "import re\n",
        "from sklearn.externals import joblib\n",
        "from sklearn.metrics import accuracy_score\n",
        "from sklearn import model_selection\n",
        "from sklearn.naive_bayes import MultinomialNB\n",
        "from sklearn.linear_model import LogisticRegression\n",
        "from sklearn.model_selection import train_test_split\n",
        "from tqdm import tqdm\n",
        "import nltk\n",
        "\n",
        "from nltk.corpus import stopwords\n",
        "from nltk.tokenize import sent_tokenize, word_tokenize\n",
        "from sklearn.preprocessing import LabelEncoder\n",
        "from sklearn import model_selection\n",
        "from sklearn.metrics import classification_report\n",
        "\n",
        "from keras.models import Sequential\n",
        "from keras.layers.recurrent import LSTM, GRU\n",
        "from keras.layers.core import Dense, Activation, Dropout\n",
        "from keras.layers.embeddings import Embedding\n",
        "from keras.models import model_from_json\n",
        "from keras.utils import np_utils\n",
        "from keras.preprocessing import sequence, text\n",
        "from keras.layers import SpatialDropout1D\n",
        "nltk.download('stopwords')\n",
        "nltk.download('punkt')\n",
        "\n",
        "from gensim.models import Word2Vec\n",
        "import fasttext\n",
        "import re\n",
        "\n",
        "\n",
        "punctuation_irritants = ',.-_&%>'\n",
        "stopwords = set(stopwords.words('english'))"
      ],
      "execution_count": 3,
      "outputs": [
        {
          "output_type": "stream",
          "text": [
            "[nltk_data] Downloading package stopwords to /root/nltk_data...\n",
            "[nltk_data]   Package stopwords is already up-to-date!\n",
            "[nltk_data] Downloading package punkt to /root/nltk_data...\n",
            "[nltk_data]   Package punkt is already up-to-date!\n"
          ],
          "name": "stdout"
        }
      ]
    },
    {
      "cell_type": "code",
      "metadata": {
        "id": "tMOD-3RR-J-b",
        "colab_type": "code",
        "colab": {}
      },
      "source": [
        "def metricsSklearn(preds,actuals,model_det):\n",
        "    print(model_det)\n",
        "    print(classification_report(actuals, preds))\n",
        "    cm=confusion_matrix(actuals,preds)\n",
        "    print \"CM is \"\n",
        "    print cm\n",
        "    plot_confusion_matrix(cm,model_det)"
      ],
      "execution_count": 0,
      "outputs": []
    },
    {
      "cell_type": "code",
      "metadata": {
        "id": "4BOpdylj-ZBj",
        "colab_type": "code",
        "colab": {}
      },
      "source": [
        "def plot_confusion_matrix(cm,filename,normalized=True, cmap='bone'):\n",
        "    classes=class_names\n",
        "    filename=\"confusion/\"+filename+\"confusion_matrix.png\"\n",
        "    plt.figure(figsize=[7, 6])\n",
        "    norm_cm = cm\n",
        "    if normalized:\n",
        "        norm_cm = cm.astype('float') / cm.sum(axis=1)[:, np.newaxis]\n",
        "        sns.heatmap(norm_cm, annot=cm, fmt='g', xticklabels=classes, yticklabels=classes, cmap=cmap)\n",
        "        plt.show()\n"
      ],
      "execution_count": 0,
      "outputs": []
    },
    {
      "cell_type": "code",
      "metadata": {
        "id": "JsD_dIhU-dFR",
        "colab_type": "code",
        "colab": {}
      },
      "source": [
        "def LogisticReg(data,label,test_data,test_label,test_data_out):\n",
        "    model_det=\"LogisticTF\"\n",
        "    model1=LogisticRegression(C=1.0,solver='lbfgs',multi_class='multinomial')\n",
        "    model1.fit(data,label)\n",
        "    preds = list(label_encoder.inverse_transform([int(i) for i in list(model1.predict(test_data))]))\n",
        "    actuals = label_encoder.inverse_transform(test_label)\n",
        "    metricsSklearn(preds,actuals,model_det)\n",
        "    preds = list(label_encoder.inverse_transform([int(i) for i in list(model1.predict(test_data_out))]))\n",
        "    return preds"
      ],
      "execution_count": 0,
      "outputs": []
    },
    {
      "cell_type": "code",
      "metadata": {
        "id": "mC4QeHNz-hqd",
        "colab_type": "code",
        "colab": {}
      },
      "source": [
        "def Multinomial(data,label,test_data,test_label):\n",
        "    model_det=\"MultinomialNB\"\n",
        "    model=MultinomialNB()\n",
        "    model.fit(data,label)\n",
        "    preds=list(label_encoder.inverse_transform([int(i) for i in list(model.predict(test_data))]))\n",
        "    actuals=label_encoder.inverse_transform(test_label)\n",
        "    metricsSklearn(preds,actuals,model_det)"
      ],
      "execution_count": 0,
      "outputs": []
    },
    {
      "cell_type": "code",
      "metadata": {
        "id": "V819i6wV-lQB",
        "colab_type": "code",
        "colab": {}
      },
      "source": [
        "def XgBoost(data,label,test_data,test_label,class_count):\n",
        "    data = data.toarray()\n",
        "    xg_train = xgb.DMatrix(data, label=label)\n",
        "    num_round = 10  # number of rounds for boosting\n",
        "    params = {'booster': 'gbtree', 'max_depth': 10, 'objective': 'multi:softmax', 'eval_metric': 'auc', 'silent': 1,\n",
        "              'num_class': class_count}\n",
        "    bst = xgb.train(params, xg_train, num_round)\n",
        "\n",
        "    xg_test = xgb.DMatrix(test_data.toarray())\n",
        "    preds = list(label_encoder.inverse_transform([int(i) for i in list(bst.predict(xg_test))]))\n",
        "    actuals = label_encoder.inverse_transform(test_label)\n",
        "    model_det='XgBoostCount'\n",
        "    metricsSklearn(preds,actuals,model_det)"
      ],
      "execution_count": 0,
      "outputs": []
    },
    {
      "cell_type": "code",
      "metadata": {
        "id": "bq2kdREDjXkj",
        "colab_type": "code",
        "colab": {}
      },
      "source": [
        "def LogisticRegTest(data,label,test_data):\n",
        "    model_det=\"LogisticTF\"\n",
        "    model=LogisticRegression(C=1.0,solver='lbfgs',multi_class='multinomial')\n",
        "    model.fit(data,label)\n",
        "    preds = list(label_encoder.inverse_transform([int(i) for i in list(model.predict(test_data))]))\n",
        "    return model"
      ],
      "execution_count": 0,
      "outputs": []
    },
    {
      "cell_type": "code",
      "metadata": {
        "id": "SVylQbWm-oWZ",
        "colab_type": "code",
        "colab": {}
      },
      "source": [
        "def clean_sent(sent):\n",
        "    for irritant in punctuation_irritants:\n",
        "        sent = sent.replace(irritant, ' ')\n",
        "    return sent\n",
        "def tokenize(value, number_required_flag=False):\n",
        "    overall_value = []\n",
        "    value = value.lower().decode('utf-8')\n",
        "    # For each column tokenize into sentences and words\n",
        "    for sent in sent_tokenize(value):\n",
        "        sent_data = []\n",
        "        # The following line is the fastest way to remove punctuations\n",
        "        sent = clean_sent(sent)\n",
        "        # The following line removes digits\n",
        "        if number_required_flag:\n",
        "            pass\n",
        "        else:\n",
        "            sent = re.sub(r'\\d+', ' ', sent)\n",
        "        for word in word_tokenize(sent):\n",
        "            if word not in stopwords and word != '' and str.isalnum(word.encode('ascii', 'ignore')) and len(word) > 1:\n",
        "                sent_data.append(word)\n",
        "            else:\n",
        "                pass\n",
        "        overall_value.append(' '.join(sent_data))\n",
        "    return ' '.join(overall_value).encode('ascii', 'ignore')"
      ],
      "execution_count": 0,
      "outputs": []
    },
    {
      "cell_type": "code",
      "metadata": {
        "id": "XTychTP8b2mz",
        "colab_type": "code",
        "colab": {}
      },
      "source": [
        "df_test=pd.read_csv('test.csv')\n",
        "df_test=df_test[['Review Text','id']]\n",
        "df_test=df_test.astype(str)\n",
        "df_test=df_test.drop_duplicates()\n",
        "df_test['Review Text']=df_test['Review Text'].map(tokenize)"
      ],
      "execution_count": 0,
      "outputs": []
    },
    {
      "cell_type": "code",
      "metadata": {
        "id": "74eC6BWu-s-c",
        "colab_type": "code",
        "outputId": "d818bab0-a3e9-40c2-860b-1ac51fa114fc",
        "colab": {
          "base_uri": "https://localhost:8080/",
          "height": 265
        }
      },
      "source": [
        "df= pd.read_csv('train.csv')\n",
        "df= df[['Review Text','Star Rating']]\n",
        "df=df.astype(str)\n",
        "df=df.drop_duplicates()\n",
        "df['Review Text']=df['Review Text'].map(tokenize)\n",
        "\n",
        "class_count=len(df['Star Rating'].value_counts())\n",
        "class_names=list(df['Star Rating'].unique())\n",
        "\n",
        "df['Star Rating'].value_counts().plot.bar()\n",
        "plt.show()"
      ],
      "execution_count": 0,
      "outputs": [
        {
          "output_type": "display_data",
          "data": {
            "image/png": "[encoded data removed]",
            "text/plain": [
              "<Figure size 432x288 with 1 Axes>"
            ]
          },
          "metadata": {
            "tags": []
          }
        }
      ]
    },
    {
      "cell_type": "markdown",
      "metadata": {
        "id": "kX6m41WzOJ-U",
        "colab_type": "text"
      },
      "source": [
        "# Rating Distribution - Class Imbalance\n",
        "\n",
        "\n",
        "1.   We observe that the extremes are imbalanced in comparison with other classes.\n",
        "2.   A shortcoming that can be expected here is uneven learning that can lead to inncorrectly classifying classes that are not remotely linked to input feature vector. A clear observation of the same can be found in the confusion matrices attached below in case of class '3'.\n",
        "\n"
      ]
    },
    {
      "cell_type": "code",
      "metadata": {
        "id": "Wpwd2RkPNdM2",
        "colab_type": "code",
        "outputId": "3d8ea1df-613e-45c9-cfda-b05010dd4f5b",
        "colab": {
          "base_uri": "https://localhost:8080/",
          "height": 281
        }
      },
      "source": [
        "#Which App version has most negative rating\n",
        "neg=pd.read_csv('train.csv')\n",
        "neg=neg[neg['Star Rating']==1]\n",
        "neg=neg['App Version Code'].value_counts()\n",
        "neg=neg.iloc[:5]\n",
        "neg.plot.bar()\n",
        "plt.legend(\"N\", loc=\"upper right\")\n",
        "plt.show()\n",
        "\n"
      ],
      "execution_count": 0,
      "outputs": [
        {
          "output_type": "display_data",
          "data": {
            "image/png": "[encoded data removed]",
            "text/plain": [
              "<Figure size 432x288 with 1 Axes>"
            ]
          },
          "metadata": {
            "tags": []
          }
        }
      ]
    },
    {
      "cell_type": "code",
      "metadata": {
        "id": "TXBIephWQGMr",
        "colab_type": "code",
        "outputId": "6538281c-264f-4d64-c89e-9c59faf89568",
        "colab": {
          "base_uri": "https://localhost:8080/",
          "height": 281
        }
      },
      "source": [
        "#Which App version has most positive Rating\n",
        "pos=pd.read_csv('train.csv')\n",
        "pos=pos[pos['Star Rating']==5]\n",
        "pos=pos['App Version Code'].value_counts()\n",
        "pos=pos.iloc[:5]\n",
        "pos.plot.bar()\n",
        "plt.legend(\"P\", loc=\"upper right\")\n",
        "plt.show()"
      ],
      "execution_count": 0,
      "outputs": [
        {
          "output_type": "display_data",
          "data": {
            "image/png": "[encoded data removed]",
            "text/plain": [
              "<Figure size 432x288 with 1 Axes>"
            ]
          },
          "metadata": {
            "tags": []
          }
        }
      ]
    },
    {
      "cell_type": "code",
      "metadata": {
        "id": "cIhE9NjiQKIt",
        "colab_type": "code",
        "outputId": "e8186dce-c3a9-459e-9bf1-c5168251fa7b",
        "colab": {
          "base_uri": "https://localhost:8080/",
          "height": 283
        }
      },
      "source": [
        "#Given review title exists are they leading to positive or negative comments\n",
        "rating=pd.read_csv('train.csv')\n",
        "rating=rating[~rating['Review Title'].isnull()]\n",
        "rating['Star Rating'].value_counts().plot.bar()"
      ],
      "execution_count": 0,
      "outputs": [
        {
          "output_type": "execute_result",
          "data": {
            "text/plain": [
              "<matplotlib.axes._subplots.AxesSubplot at 0x7f615ac18bd0>"
            ]
          },
          "metadata": {
            "tags": []
          },
          "execution_count": 36
        },
        {
          "output_type": "display_data",
          "data": {
            "image/png": "[encoded data removed]",
            "text/plain": [
              "<Figure size 432x288 with 1 Axes>"
            ]
          },
          "metadata": {
            "tags": []
          }
        }
      ]
    },
    {
      "cell_type": "markdown",
      "metadata": {
        "id": "6oDRQCEmQ0nP",
        "colab_type": "text"
      },
      "source": [
        "# Inference\n",
        "Given the user has put in time and effort to give Review Title, the rating tends to be more extreme. That is, either the user has a profound liking or utter disgust. Such extremities can be dealt with seperatly for better accuracy. "
      ]
    },
    {
      "cell_type": "markdown",
      "metadata": {
        "id": "Nywd9KhXR-2O",
        "colab_type": "text"
      },
      "source": [
        "# Approaches "
      ]
    },
    {
      "cell_type": "code",
      "metadata": {
        "id": "T5_qZEsweBJe",
        "colab_type": "code",
        "colab": {}
      },
      "source": [
        "df_final=pd.concat([df['Review Text'],df_test['Review Text']])"
      ],
      "execution_count": 0,
      "outputs": []
    },
    {
      "cell_type": "code",
      "metadata": {
        "id": "mt5PjuL__v1C",
        "colab_type": "code",
        "colab": {}
      },
      "source": [
        "#Label encode for y and split data\n",
        "label_encoder = LabelEncoder()\n",
        "label_encoder = label_encoder.fit(df['Star Rating'])\n",
        "label_encoded_labels = label_encoder.transform(df['Star Rating'])\n",
        "train_x, valid_x, train_y, valid_y = model_selection.train_test_split(df['Review Text'],label_encoded_labels)"
      ],
      "execution_count": 0,
      "outputs": []
    },
    {
      "cell_type": "code",
      "metadata": {
        "id": "uVCF_cl7_0Y4",
        "colab_type": "code",
        "colab": {}
      },
      "source": [
        "tfidf_vec = TfidfVectorizer(ngram_range=(1,1))\n",
        "tfidf_vec.fit(df_final.to_list())\n",
        "trn_term_doc = tfidf_vec.transform(train_x)\n",
        "test_term_doc = tfidf_vec.transform(valid_x)"
      ],
      "execution_count": 0,
      "outputs": []
    },
    {
      "cell_type": "code",
      "metadata": {
        "id": "w9AMEWR0ecTv",
        "colab_type": "code",
        "colab": {}
      },
      "source": [
        "test_data_out=tfidf_vec.transform(df_test['Review Text'])\n"
      ],
      "execution_count": 0,
      "outputs": []
    },
    {
      "cell_type": "code",
      "metadata": {
        "id": "4rVDvmgh_2jB",
        "colab_type": "code",
        "colab": {}
      },
      "source": [
        "#CountVectorised\n",
        "ctv = CountVectorizer(analyzer='word',token_pattern=r'\\w{1,}',\n",
        "            ngram_range=(1, 1), stop_words = 'english')\n",
        "# Fitting Count Vectorizer to both training and test sets (semi-supervised learning)\n",
        "ctv.fit(df[\"Review Text\"].to_list())\n",
        "xtrain_ctv =  ctv.transform(train_x) \n",
        "xvalid_ctv = ctv.transform(valid_x)\n"
      ],
      "execution_count": 0,
      "outputs": []
    },
    {
      "cell_type": "markdown",
      "metadata": {
        "id": "zI5jEWgwSF1X",
        "colab_type": "text"
      },
      "source": [
        "# Logistic Reg"
      ]
    },
    {
      "cell_type": "code",
      "metadata": {
        "id": "10lWX7CD_85k",
        "colab_type": "code",
        "outputId": "dafd8f99-07c2-4656-9cb6-1d04a39f5971",
        "colab": {
          "base_uri": "https://localhost:8080/",
          "height": 728
        }
      },
      "source": [
        "out=LogisticReg(trn_term_doc,train_y,test_term_doc,valid_y,test_data_out)"
      ],
      "execution_count": 0,
      "outputs": [
        {
          "output_type": "stream",
          "text": [
            "LogisticTF\n",
            "              precision    recall  f1-score   support\n",
            "\n",
            "           1       0.79      0.90      0.84       432\n",
            "           2       0.00      0.00      0.00        45\n",
            "           3       0.00      0.00      0.00        45\n",
            "           4       0.50      0.01      0.01       141\n",
            "           5       0.71      0.95      0.81       502\n",
            "\n",
            "   micro avg       0.74      0.74      0.74      1165\n",
            "   macro avg       0.40      0.37      0.33      1165\n",
            "weighted avg       0.66      0.74      0.66      1165\n",
            "\n",
            "CM is \n",
            "[[388   0   0   0  44]\n",
            " [ 34   0   0   1  10]\n",
            " [ 23   0   0   0  22]\n",
            " [ 21   0   1   1 118]\n",
            " [ 26   0   0   0 476]]\n"
          ],
          "name": "stdout"
        },
        {
          "output_type": "display_data",
          "data": {
            "image/png": "[encoded data removed]",
            "text/plain": [
              "<Figure size 504x432 with 2 Axes>"
            ]
          },
          "metadata": {
            "tags": []
          }
        }
      ]
    },
    {
      "cell_type": "code",
      "metadata": {
        "id": "7IODZv9uCBbQ",
        "colab_type": "code",
        "outputId": "8d4e2bca-794a-45ce-8bb9-ab5f99e9f9ca",
        "colab": {
          "base_uri": "https://localhost:8080/",
          "height": 728
        }
      },
      "source": [
        "LogisticReg(xtrain_ctv,train_y,xvalid_ctv,valid_y)"
      ],
      "execution_count": 0,
      "outputs": [
        {
          "output_type": "stream",
          "text": [
            "LogisticTF\n",
            "              precision    recall  f1-score   support\n",
            "\n",
            "           1       0.83      0.86      0.84       444\n",
            "           2       0.17      0.03      0.05        37\n",
            "           3       0.20      0.04      0.07        47\n",
            "           4       0.24      0.08      0.12       125\n",
            "           5       0.73      0.92      0.81       512\n",
            "\n",
            "   micro avg       0.74      0.74      0.74      1165\n",
            "   macro avg       0.43      0.39      0.38      1165\n",
            "weighted avg       0.68      0.74      0.70      1165\n",
            "\n",
            "CM is \n",
            "[[381   4   5   5  49]\n",
            " [ 23   1   0   1  12]\n",
            " [ 17   1   2  10  17]\n",
            " [ 17   0   0  10  98]\n",
            " [ 22   0   3  15 472]]\n"
          ],
          "name": "stdout"
        },
        {
          "output_type": "display_data",
          "data": {
            "image/png": "[encoded data removed]",
            "text/plain": [
              "<Figure size 504x432 with 2 Axes>"
            ]
          },
          "metadata": {
            "tags": []
          }
        }
      ]
    },
    {
      "cell_type": "markdown",
      "metadata": {
        "id": "GpI-CE24SKkQ",
        "colab_type": "text"
      },
      "source": [
        "# XgBoost"
      ]
    },
    {
      "cell_type": "code",
      "metadata": {
        "id": "7OlhBKLaAKiY",
        "colab_type": "code",
        "outputId": "9be33e83-e157-4401-91de-1d0f2ec5e65b",
        "colab": {
          "base_uri": "https://localhost:8080/",
          "height": 728
        }
      },
      "source": [
        "XgBoost(trn_term_doc,train_y,test_term_doc,valid_y,class_count)"
      ],
      "execution_count": 0,
      "outputs": [
        {
          "output_type": "stream",
          "text": [
            "XgBoostCount\n",
            "              precision    recall  f1-score   support\n",
            "\n",
            "           1       0.75      0.74      0.75       434\n",
            "           2       0.00      0.00      0.00        37\n",
            "           3       0.20      0.02      0.04        52\n",
            "           4       0.20      0.01      0.03       136\n",
            "           5       0.64      0.91      0.75       506\n",
            "\n",
            "   micro avg       0.67      0.67      0.67      1165\n",
            "   macro avg       0.36      0.34      0.31      1165\n",
            "weighted avg       0.59      0.67      0.61      1165\n",
            "\n",
            "CM is \n",
            "[[323   3   1   0 107]\n",
            " [ 30   0   0   0   7]\n",
            " [ 21   0   1   1  29]\n",
            " [ 19   1   1   2 113]\n",
            " [ 38   1   2   7 458]]\n"
          ],
          "name": "stdout"
        },
        {
          "output_type": "display_data",
          "data": {
            "image/png": "[encoded data removed]",
            "text/plain": [
              "<Figure size 504x432 with 2 Axes>"
            ]
          },
          "metadata": {
            "tags": []
          }
        }
      ]
    },
    {
      "cell_type": "code",
      "metadata": {
        "id": "I6rg631pCU4A",
        "colab_type": "code",
        "outputId": "621e77f9-fc00-4e36-9965-bef27e67ea2f",
        "colab": {
          "base_uri": "https://localhost:8080/",
          "height": 728
        }
      },
      "source": [
        "XgBoost(xtrain_ctv,train_y,xvalid_ctv,valid_y,class_count)"
      ],
      "execution_count": 0,
      "outputs": [
        {
          "output_type": "stream",
          "text": [
            "XgBoostCount\n",
            "              precision    recall  f1-score   support\n",
            "\n",
            "           1       0.79      0.72      0.75       434\n",
            "           2       0.00      0.00      0.00        37\n",
            "           3       0.33      0.02      0.04        52\n",
            "           4       0.71      0.04      0.07       136\n",
            "           5       0.63      0.94      0.75       506\n",
            "\n",
            "   micro avg       0.68      0.68      0.68      1165\n",
            "   macro avg       0.49      0.34      0.32      1165\n",
            "weighted avg       0.66      0.68      0.62      1165\n",
            "\n",
            "CM is \n",
            "[[311   0   0   0 123]\n",
            " [ 25   0   1   0  11]\n",
            " [ 19   0   1   0  32]\n",
            " [ 12   0   0   5 119]\n",
            " [ 27   0   1   2 476]]\n"
          ],
          "name": "stdout"
        },
        {
          "output_type": "display_data",
          "data": {
            "image/png": "[encoded data removed]",
            "text/plain": [
              "<Figure size 504x432 with 2 Axes>"
            ]
          },
          "metadata": {
            "tags": []
          }
        }
      ]
    },
    {
      "cell_type": "markdown",
      "metadata": {
        "id": "Mo3TCR9ESN6k",
        "colab_type": "text"
      },
      "source": [
        "# MultinomialNB"
      ]
    },
    {
      "cell_type": "code",
      "metadata": {
        "id": "YX5IvKQqBFoz",
        "colab_type": "code",
        "outputId": "17dc0dc1-400b-4e6e-c6e9-b4e38ab60443",
        "colab": {
          "base_uri": "https://localhost:8080/",
          "height": 728
        }
      },
      "source": [
        "Multinomial(trn_term_doc,train_y,test_term_doc,valid_y)"
      ],
      "execution_count": 0,
      "outputs": [
        {
          "output_type": "stream",
          "text": [
            "MultinomialNB\n",
            "              precision    recall  f1-score   support\n",
            "\n",
            "           1       0.79      0.90      0.84       434\n",
            "           2       0.00      0.00      0.00        37\n",
            "           3       0.00      0.00      0.00        52\n",
            "           4       0.00      0.00      0.00       136\n",
            "           5       0.71      0.94      0.81       506\n",
            "\n",
            "   micro avg       0.74      0.74      0.74      1165\n",
            "   macro avg       0.30      0.37      0.33      1165\n",
            "weighted avg       0.60      0.74      0.67      1165\n",
            "\n",
            "CM is \n",
            "[[391   0   0   0  43]\n",
            " [ 31   0   0   0   6]\n",
            " [ 27   0   0   0  25]\n",
            " [ 19   0   0   0 117]\n",
            " [ 30   0   0   0 476]]\n"
          ],
          "name": "stdout"
        },
        {
          "output_type": "display_data",
          "data": {
            "image/png": "[encoded data removed]",
            "text/plain": [
              "<Figure size 504x432 with 2 Axes>"
            ]
          },
          "metadata": {
            "tags": []
          }
        }
      ]
    },
    {
      "cell_type": "code",
      "metadata": {
        "id": "aYNbc8xzCPQf",
        "colab_type": "code",
        "outputId": "026b76d4-bef0-40d7-f832-5aa97f053103",
        "colab": {
          "base_uri": "https://localhost:8080/",
          "height": 747
        }
      },
      "source": [
        "Multinomial(xtrain_ctv,train_y,xvalid_ctv,valid_y)"
      ],
      "execution_count": 0,
      "outputs": [
        {
          "output_type": "stream",
          "text": [
            "MultinomialNB\n",
            "              precision    recall  f1-score   support\n",
            "\n",
            "           1       0.82      0.89      0.85       444\n",
            "           2       0.00      0.00      0.00        37\n",
            "           3       0.00      0.00      0.00        47\n",
            "           4       0.27      0.02      0.04       125\n",
            "           5       0.73      0.94      0.82       512\n",
            "\n",
            "   micro avg       0.76      0.76      0.76      1165\n",
            "   macro avg       0.36      0.37      0.34      1165\n",
            "weighted avg       0.66      0.76      0.69      1165\n",
            "\n",
            "CM is \n",
            "[[394   4   4   5  37]\n",
            " [ 22   0   1   0  14]\n",
            " [ 24   0   0   1  22]\n",
            " [ 15   0   0   3 107]\n",
            " [ 25   0   2   2 483]]\n"
          ],
          "name": "stdout"
        },
        {
          "output_type": "display_data",
          "data": {
            "image/png": "[encoded data removed]",
            "text/plain": [
              "<Figure size 504x432 with 2 Axes>"
            ]
          },
          "metadata": {
            "tags": []
          }
        },
        {
          "output_type": "stream",
          "text": [
            "(1165, 4288)\n"
          ],
          "name": "stdout"
        }
      ]
    },
    {
      "cell_type": "markdown",
      "metadata": {
        "id": "Co5QA_8GCywQ",
        "colab_type": "text"
      },
      "source": [
        "#Side Hacks to better Metrics\n",
        "\n",
        "\n",
        "*   It is noted that smilies almost always tend to equate to a high positive review. General intution behind that is, people refrain from investing time in emojis while lamenting about a bad review/ problem they faced.\n",
        "*  If review title available check sentiment and equate to extremes [1 and 5]. Since they are mostly reflective of the rating and are not subjective like Review Text\n",
        "*  I am not including it towards calculation of F-measure as they do not tend to be real-world and are mostly local to this review set. \n",
        "\n"
      ]
    },
    {
      "cell_type": "code",
      "metadata": {
        "id": "rgn4NG1RLBfg",
        "colab_type": "code",
        "colab": {}
      },
      "source": [
        "def is_emoji(s):\n",
        "    emojis = [\"😊\",\"😘\",\"👍\",\"⚡⚡\",\"(y)\",\"😀\",\"👌\",\"🔥\"] # add more differentiators here as data progresses\n",
        "    count = 0\n",
        "    for emoji in emojis:\n",
        "        count += s.count(emoji)\n",
        "        if count > 1:\n",
        "            return False\n",
        "    return bool(count)\n",
        "\n",
        "def nega_emoji(s):\n",
        "    emojis = [\"😡\",\"😢\",\"***\",\"Fake\"];\n",
        "    count=0\n",
        "    for emoji in emojis:\n",
        "        count+=s.count(emoji)\n",
        "        if count >1:\n",
        "            return False\n",
        "    return bool(count)"
      ],
      "execution_count": 0,
      "outputs": []
    },
    {
      "cell_type": "code",
      "metadata": {
        "id": "K1oVzp5GCsl3",
        "colab_type": "code",
        "outputId": "bf97cfe0-07fe-4ad4-d1d5-e7c215c3cc4a",
        "colab": {
          "base_uri": "https://localhost:8080/",
          "height": 35
        }
      },
      "source": [
        "df1=pd.read_csv('train.csv')\n",
        "a=df1[['Review Text', 'Star Rating']]\n",
        "inn=a['Review Text'].to_list()\n",
        "rating=a['Star Rating'].to_list()\n",
        "\n",
        "count=0\n",
        "total=0\n",
        "for i in range(len(inn)):\n",
        "    inn[i]=str(inn[i])\n",
        "    if is_emoji(inn[i]):\n",
        "        total+=1\n",
        "        if(rating[i]==5):\n",
        "            count+=1\n",
        "print float(count)/total\n"
      ],
      "execution_count": 0,
      "outputs": [
        {
          "output_type": "stream",
          "text": [
            "0.833333333333\n"
          ],
          "name": "stdout"
        }
      ]
    },
    {
      "cell_type": "markdown",
      "metadata": {
        "id": "bbkadoBKMsbr",
        "colab_type": "text"
      },
      "source": [
        "**The results are as expected, but again such a scenario might not present itself in a general use case, rather even in a larger corpus of the same dataset. Thus I have validated f-measure scores only for more traditional approaches in the above decks.**"
      ]
    },
    {
      "cell_type": "markdown",
      "metadata": {
        "id": "Mna3in8zRkhe",
        "colab_type": "text"
      },
      "source": [
        "# Running it on Test Data\n",
        "Since the answer mandates only one approach I shall be going ahead with the Logistic Regression on count Vectors. "
      ]
    },
    {
      "cell_type": "code",
      "metadata": {
        "id": "c9AuqQ_5gZzP",
        "colab_type": "code",
        "colab": {}
      },
      "source": [
        "first={}\n",
        "for i in range(len(df_test)):\n",
        "    first[df_test[\"id\"].iloc[i]]=out[i]\n",
        "print first\n",
        "    "
      ],
      "execution_count": 0,
      "outputs": []
    },
    {
      "cell_type": "code",
      "metadata": {
        "id": "-exKTLkGRkOJ",
        "colab_type": "code",
        "colab": {}
      },
      "source": [
        "df1= pd.read_csv('test.csv')\n",
        "df1=df1[['Review Text','id']]\n",
        "id=df1['id'].to_list()\n",
        "\n",
        "inn=df1['Review Text']\n",
        "inn=inn.to_list()\n",
        "\n",
        "#splitting into data for model and data based on emojis\n",
        "output={}\n",
        "\n",
        "#overwriting extremes\n",
        "for i in range(len(inn)):\n",
        "    inn[i]=str(inn[i])\n",
        "    if nega_emoji(inn[i]):\n",
        "        output[id[i]]=1\n",
        "    elif(is_emoji(inn[i])):\n",
        "        output[id[i]]=5\n",
        "\n",
        "    else:\n",
        "        output[id[i]]=first[id[i]]\n",
        "print output"
      ],
      "execution_count": 0,
      "outputs": []
    },
    {
      "cell_type": "code",
      "metadata": {
        "id": "0AIqiKqSiUqy",
        "colab_type": "code",
        "colab": {}
      },
      "source": [
        "wri=[['id','Star Rating']]\n",
        "for key,value in output.items():\n",
        "    wri.append([key,value])\n",
        "\n",
        "\n",
        "myFile = open('submit.csv', 'w')\n",
        "with myFile:\n",
        "    writer = csv.writer(myFile)\n",
        "    writer.writerows(wri)"
      ],
      "execution_count": 0,
      "outputs": []
    },
    {
      "cell_type": "markdown",
      "metadata": {
        "id": "cBZMHz3wluVX",
        "colab_type": "text"
      },
      "source": [
        "# Sumbit.csv\n",
        "All ratings are finally writen to submit.csv\n"
      ]
    }
  ]
}
